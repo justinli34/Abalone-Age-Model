{
 "cells": [
  {
   "cell_type": "markdown",
   "id": "c37d44f1-c67c-4313-b80c-fc7eab3a7333",
   "metadata": {},
   "source": [
    "# Group 10 Project Proposal\n",
    "### Introduction\n",
    "\n",
    "Abalones are a type of sea snails, and among the human world, has earned its place as distinguished seafood. They have a hard and dense texture if eaten straight out of the shell, like sashimi. It can also be slow-cooked in meat-stock or cooked in rice porridge, which can result in soft and slightly chewy flesh, full of flavor and umami. \n",
    "\n",
    "Older abalones are usually more expensive than younger abalones, as older abalones are more rich in flavor as opposed to younger abalones. However, the process to determine the age of a particular abalone can be quite boring and long, as you would need to cut the shell, stain it, and count the rings under a microscope. Imagine doing that for a batch of thousands of abalones! \n",
    "\n",
    "In this project, we'll be developing a model to determine the age of a given abalone by using more easily measurable variables such as an abalone's physical dimensions, weight, and possibly sex. The dataset that we are using is taken from the UC Irvine Machine Learning Repository, and contains comma-separated values with no headers. It includes the ***sex, length (mm), diameter (mm), height (mm), whole weight (grams), shucked weight (grams, weight of meat), viscera weight (grams, gut weight after bleeding), shell weight (grams, weight of shell after drying), and number of rings*** that a given abalone has. There are 4177 instances in this dataset. Since we are given rings, we'll be making a new column for \"age\", which is the number of rings plus 1.5, in years. "
   ]
  },
  {
   "cell_type": "code",
   "execution_count": null,
   "id": "7c30dd42-0bfa-4b58-9f09-0fab0f2583c4",
   "metadata": {},
   "outputs": [],
   "source": []
  }
 ],
 "metadata": {
  "kernelspec": {
   "display_name": "Python 3 (ipykernel)",
   "language": "python",
   "name": "python3"
  },
  "language_info": {
   "codemirror_mode": {
    "name": "ipython",
    "version": 3
   },
   "file_extension": ".py",
   "mimetype": "text/x-python",
   "name": "python",
   "nbconvert_exporter": "python",
   "pygments_lexer": "ipython3",
   "version": "3.10.8"
  }
 },
 "nbformat": 4,
 "nbformat_minor": 5
}
