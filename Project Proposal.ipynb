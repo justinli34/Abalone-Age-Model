{
 "cells": [
  {
   "cell_type": "markdown",
   "id": "c37d44f1-c67c-4313-b80c-fc7eab3a7333",
   "metadata": {
    "tags": []
   },
   "source": [
    "# Group 10 Project Proposal\n",
    "## Introduction\n",
    "\n",
    "Abalones are a type of sea snails that are also known for being seafood delicacies. \n",
    "\n",
    "***Question:***\n",
    "How old is a given abalone?\n",
    "\n",
    "In this project, we'll be developing a model to try and determine the age of a given abalone by using easily measurable variables such as an abalone's physical dimensions, weight, and possibly sex. We discuss the importance of this in a later section of this proposal. The dataset that we are using is taken from the UC Irvine Machine Learning Repository, and contains comma-separated values with no headers. It includes the ***sex, length (mm), diameter (mm), height (mm), whole weight (grams), shucked weight (grams, weight of meat), viscera weight (grams, gut weight after bleeding), shell weight (grams, weight of shell after drying), and number of rings*** that a given abalone has. There are 4177 instances in this dataset. Since we are given rings, we'll be making a new column for \"age\", which is the number of rings plus 1.5, in years. However, the number of rings will be the target variable for our model. "
   ]
  },
  {
   "cell_type": "markdown",
   "id": "d0c4da7a-bbce-4fa2-a49d-980f37b69748",
   "metadata": {},
   "source": [
    "## Preliminary Exploratory Data Analysis\n",
    "\n",
    "Reading data from web:"
   ]
  },
  {
   "cell_type": "code",
   "execution_count": 1,
   "id": "8ffdfccb-8208-470e-a970-4041f0b5d6fa",
   "metadata": {},
   "outputs": [],
   "source": [
    "# TODO: be able to read the data in from the web"
   ]
  },
  {
   "cell_type": "markdown",
   "id": "9328c849-becb-47bf-b22d-f979eeec1891",
   "metadata": {},
   "source": [
    "The data itself is already fairly tidy. Each column contains a single variable, each row is a single observation, and each cell is a single value. "
   ]
  },
  {
   "cell_type": "code",
   "execution_count": 6,
   "id": "0e1f403c-7acb-47ab-b0ab-e5c6cfa8594d",
   "metadata": {},
   "outputs": [],
   "source": [
    "# TODO: Do we need to really add anything? We could add an age column, but that could be confusing, as we are using rings as the target variable. "
   ]
  },
  {
   "cell_type": "markdown",
   "id": "b2aeda64-3460-4ce6-bf5b-b0b7895d04fd",
   "metadata": {},
   "source": [
    "Splitting data:"
   ]
  },
  {
   "cell_type": "code",
   "execution_count": 3,
   "id": "2f66d129-61d6-40df-a7d0-4dfcfb13b605",
   "metadata": {},
   "outputs": [],
   "source": [
    "# TODO: split data into training and testing data\n",
    "# SIDE NOTE: should we actually be using all 4177 rows??"
   ]
  },
  {
   "cell_type": "markdown",
   "id": "a64cca9f-a6cc-43fb-9a0d-f81328bb2e0e",
   "metadata": {},
   "source": [
    "Summary table:"
   ]
  },
  {
   "cell_type": "code",
   "execution_count": 4,
   "id": "5c212a2d-2cd7-47e9-a04a-74e1d7422ba5",
   "metadata": {},
   "outputs": [],
   "source": [
    "# TODO: create a summary table, with number of rows, maybe the units for each of the variabeles, which ones are predictors, maybe grouping them...?\n",
    "# Definitely should take another look at the criteria for the proposal"
   ]
  },
  {
   "cell_type": "markdown",
   "id": "1ccd21be-da63-4fc3-9ea4-efdf8ac05dde",
   "metadata": {},
   "source": [
    "Plots:"
   ]
  },
  {
   "cell_type": "code",
   "execution_count": 5,
   "id": "397a81d9-931d-4a99-aed9-c8051183ea20",
   "metadata": {},
   "outputs": [],
   "source": [
    "# TODO: create some plots (maybe with captions)\n",
    "# I'm not sure if they need to compare the target variable to the predictors, or if it's just within the predictors...I think the former probably\n",
    "# makes more sense, but it'd be wise to read over the proposal a couple more times..."
   ]
  },
  {
   "cell_type": "markdown",
   "id": "4da5ad2d-e462-483d-a182-9501d7253303",
   "metadata": {},
   "source": [
    "## Methods\n",
    "\n",
    "We will conduct our data analysis through regression to predict how old a particular abalone may be. Although the number of rings is numerical in value, it is not continuous. We would still like to use regression for this data though, since our ultimate goal is to find age, which is continuous. If the regression does provide us with a decimal answer for number of rings, then we would add 1.5 to it to find the approximate age. We may also try using classification later on to see what sort of difference in result that would give us. \n",
    "\n",
    "The variables that we will use as predictors are those that are related to the dimensions of the abalone and the weight of the abalone, which include all variables other than the target variable (number of rings) and sex. Sex is a categorical data value while the other data values are numerical and continuous. As well, compared to the other values it is not easily measured or determined without prior knowledge.\n",
    "\n",
    "### Visualization\n",
    "One way we could visualize would be to use a scatterplot for regression. We could have age on the y-axis, and the predictor on the x-axis. Of course, if we were to show basic trends between a variable and a predictor, we could also have a bar graph.\n",
    "\n",
    "TODO: add more for Visualization"
   ]
  },
  {
   "cell_type": "markdown",
   "id": "81e200a1-55ad-4003-9c37-4afa9c51d34e",
   "metadata": {},
   "source": [
    "## Expected Outcomes and Significance\n",
    "\n",
    "Older abalones are usually more expensive than younger abalones, as older abalones are more rich in flavor. However, the process to determine the age of a particular abalone can be quite boring and long (cut the shell, stain it, and count the rings under a microscope, etc.). \n",
    "Thus, our model attempts to predict the age and speed up the process. This would allow for better efficiency when the age of an abalone is needed, for example to price abalone. It can also allow cooks to determine how the abalone might taste before actually cooking it, based on how old it is. \n",
    "\n",
    "Future questions that may lead from this include ______"
   ]
  },
  {
   "cell_type": "code",
   "execution_count": null,
   "id": "15228dc1-f604-4ee4-a0b5-3945b74ed072",
   "metadata": {},
   "outputs": [],
   "source": []
  }
 ],
 "metadata": {
  "kernelspec": {
   "display_name": "Python 3 (ipykernel)",
   "language": "python",
   "name": "python3"
  },
  "language_info": {
   "codemirror_mode": {
    "name": "ipython",
    "version": 3
   },
   "file_extension": ".py",
   "mimetype": "text/x-python",
   "name": "python",
   "nbconvert_exporter": "python",
   "pygments_lexer": "ipython3",
   "version": "3.10.8"
  }
 },
 "nbformat": 4,
 "nbformat_minor": 5
}
