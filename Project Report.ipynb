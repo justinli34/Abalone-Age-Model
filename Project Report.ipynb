{
 "cells": [
  {
   "cell_type": "markdown",
   "id": "4c055680-1827-4413-9375-e331b6324981",
   "metadata": {},
   "source": [
    "# \\<Title>\n",
    "## Introduction\n",
    "\n",
    "Abalones are sea snails known for being seafood delicacies. The price of an abalone is positively correlated with its age. The standard method of determining an abalone's age is tedious and laborious. We aim to streamline this process using predictive modeling.\n",
    "\n",
    "***Question:***\n",
    "How does the number of rings an abalone has, and consequently its age, depend on its physical dimensions and weight?\n",
    "\n",
    "In this project, we will be developing a model that predicts the age of an abalone using easily measurable physical traits. The data set we are using is from the UCI Machine Learning Repository. It contains comma-separated values with no headers and contains 4177 instances. It includes the ***sex, length (mm), diameter (mm), height (mm), whole weight (grams), shucked weight (grams, meat weight), viscera weight (grams, gut weight after bleeding), shell weight (grams, after drying), and number of rings*** of a given abalone. The range of the continuous variables has been pre-scaled by dividing by 200. Our target variable is the number of rings."
   ]
  },
  {
   "cell_type": "code",
   "execution_count": null,
   "id": "13314994-9ad3-457c-9673-58fb1f79d00e",
   "metadata": {},
   "outputs": [],
   "source": []
  }
 ],
 "metadata": {
  "kernelspec": {
   "display_name": "Python 3 (ipykernel)",
   "language": "python",
   "name": "python3"
  },
  "language_info": {
   "codemirror_mode": {
    "name": "ipython",
    "version": 3
   },
   "file_extension": ".py",
   "mimetype": "text/x-python",
   "name": "python",
   "nbconvert_exporter": "python",
   "pygments_lexer": "ipython3",
   "version": "3.10.8"
  }
 },
 "nbformat": 4,
 "nbformat_minor": 5
}
